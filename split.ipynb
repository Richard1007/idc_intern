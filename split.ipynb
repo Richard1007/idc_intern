{
  "nbformat": 4,
  "nbformat_minor": 0,
  "metadata": {
    "colab": {
      "name": "split.ipynb",
      "provenance": [],
      "authorship_tag": "ABX9TyNUE9iGCpxBjwef5JthrU1+",
      "include_colab_link": true
    },
    "kernelspec": {
      "name": "python3",
      "display_name": "Python 3"
    },
    "language_info": {
      "name": "python"
    }
  },
  "cells": [
    {
      "cell_type": "markdown",
      "metadata": {
        "id": "view-in-github",
        "colab_type": "text"
      },
      "source": [
        "<a href=\"https://colab.research.google.com/github/Richard1007/idc_intern/blob/main/split.ipynb\" target=\"_parent\"><img src=\"https://colab.research.google.com/assets/colab-badge.svg\" alt=\"Open In Colab\"/></a>"
      ]
    },
    {
      "cell_type": "code",
      "execution_count": 1,
      "metadata": {
        "colab": {
          "base_uri": "https://localhost:8080/"
        },
        "id": "XdDYO_T2bdFA",
        "outputId": "fc060c71-f628-4276-827b-a63288f7d65e"
      },
      "outputs": [
        {
          "output_type": "stream",
          "name": "stdout",
          "text": [
            "Mounted at /content/drive\n"
          ]
        }
      ],
      "source": [
        "from google.colab import drive\n",
        "drive.mount('/content/drive')"
      ]
    },
    {
      "cell_type": "code",
      "source": [
        "import pandas as pd\n",
        "import numpy as np\n",
        "import os\n",
        "pd.set_option('display.max_rows', None)\n",
        "pd.set_option('display.max_columns', None)"
      ],
      "metadata": {
        "id": "dmz7Xt8dcsRe"
      },
      "execution_count": 4,
      "outputs": []
    },
    {
      "cell_type": "code",
      "source": [
        "channelsum=pd.read_excel(r'/content/drive/My Drive/split/channel_mapping.xlsx',sheet_name='channeluse')\n",
        "aspuse=pd.read_excel(r'/content/drive/My Drive/split/pc_fcst.xlsx',sheet_name='aspuse')\n",
        "channelmix=pd.read_excel(r'/content/drive/My Drive/split/channelmix.xlsx',sheet_name='Sheet5')\n",
        "segpro=pd.read_excel(r'/content/drive/My Drive/split/segpro_smb_tran3.xlsx',sheet_name='Sheet1') "
      ],
      "metadata": {
        "id": "mLcybymmcJg8"
      },
      "execution_count": 8,
      "outputs": []
    },
    {
      "cell_type": "code",
      "source": [
        "channelmix1=pd.melt(channelmix,id_vars=['Quarter','Product','Segment','Province'],value_vars=['Direct - Inbound/Outbound','Direct - Internet',\n",
        "                                        'Direct - Store','InDirect - Dealer/VAR/SI' ,'InDirect - eTailer','InDirect - LFR'  ,'InDirect - Retail','InDirect - Telco' ],\n",
        "                   var_name='Channel',value_name='channelmix')"
      ],
      "metadata": {
        "id": "XqnO1Q7fdH7e"
      },
      "execution_count": 9,
      "outputs": []
    },
    {
      "cell_type": "code",
      "source": [
        "\n",
        "segpro1=pd.merge(segpro,channelmix1,on=['Quarter','Product','Segment','Province'],how='left')"
      ],
      "metadata": {
        "id": "tycTCoiPdLN3"
      },
      "execution_count": 13,
      "outputs": []
    },
    {
      "cell_type": "code",
      "source": [
        "channelmix1.channelmix.sum()"
      ],
      "metadata": {
        "colab": {
          "base_uri": "https://localhost:8080/"
        },
        "id": "uLCC5lzZdiTr",
        "outputId": "81c034e9-9039-43a0-d616-e797f0a689ed"
      },
      "execution_count": 14,
      "outputs": [
        {
          "output_type": "execute_result",
          "data": {
            "text/plain": [
              "17632.02"
            ]
          },
          "metadata": {},
          "execution_count": 14
        }
      ]
    },
    {
      "cell_type": "code",
      "source": [
        "segpro.count()"
      ],
      "metadata": {
        "colab": {
          "base_uri": "https://localhost:8080/"
        },
        "id": "GkR91FhcdlGT",
        "outputId": "f5b65cbb-76b5-4769-c2f0-5dd6622ed5a6"
      },
      "execution_count": 15,
      "outputs": [
        {
          "output_type": "execute_result",
          "data": {
            "text/plain": [
              "Country               17632\n",
              "Forecast Version      17632\n",
              "Quarter               17632\n",
              "Product               17632\n",
              "Segment               17632\n",
              "Segment (Internal)    17632\n",
              "Province              17632\n",
              "Units                 17632\n",
              "dtype: int64"
            ]
          },
          "metadata": {},
          "execution_count": 15
        }
      ]
    },
    {
      "cell_type": "code",
      "source": [
        "segpro1.channelmix.sum()"
      ],
      "metadata": {
        "colab": {
          "base_uri": "https://localhost:8080/"
        },
        "id": "6DSZovIldpKe",
        "outputId": "747cb9d3-a21d-4a11-dfa7-c9a51a3004a7"
      },
      "execution_count": 16,
      "outputs": [
        {
          "output_type": "execute_result",
          "data": {
            "text/plain": [
              "17632.02"
            ]
          },
          "metadata": {},
          "execution_count": 16
        }
      ]
    }
  ]
}